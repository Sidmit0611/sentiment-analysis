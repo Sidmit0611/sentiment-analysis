{
 "cells": [
  {
   "cell_type": "markdown",
   "metadata": {},
   "source": [
    "# Generic vs Customised Algorithm"
   ]
  },
  {
   "cell_type": "markdown",
   "metadata": {},
   "source": [
    ">Generic text mining algorithm might not work well on all types of data \n",
    "\n",
    ">We need to train the model/dictionary/DTM/ to make the model  accurate\n",
    "\n",
    ">You will have low accuracy with generic parameters"
   ]
  },
  {
   "cell_type": "markdown",
   "metadata": {},
   "source": [
    "# Movie review data"
   ]
  },
  {
   "cell_type": "code",
   "execution_count": 1,
   "metadata": {},
   "outputs": [],
   "source": [
    "#importing the libraries\n",
    "import numpy as np\n",
    "import pandas as pd"
   ]
  },
  {
   "cell_type": "code",
   "execution_count": 2,
   "metadata": {},
   "outputs": [],
   "source": [
    "input_data = pd.read_csv('User_movie_review.csv')"
   ]
  },
  {
   "cell_type": "code",
   "execution_count": 3,
   "metadata": {},
   "outputs": [
    {
     "data": {
      "text/html": [
       "<div>\n",
       "<style scoped>\n",
       "    .dataframe tbody tr th:only-of-type {\n",
       "        vertical-align: middle;\n",
       "    }\n",
       "\n",
       "    .dataframe tbody tr th {\n",
       "        vertical-align: top;\n",
       "    }\n",
       "\n",
       "    .dataframe thead th {\n",
       "        text-align: right;\n",
       "    }\n",
       "</style>\n",
       "<table border=\"1\" class=\"dataframe\">\n",
       "  <thead>\n",
       "    <tr style=\"text-align: right;\">\n",
       "      <th></th>\n",
       "      <th>class</th>\n",
       "      <th>text</th>\n",
       "    </tr>\n",
       "  </thead>\n",
       "  <tbody>\n",
       "    <tr>\n",
       "      <th>0</th>\n",
       "      <td>Pos</td>\n",
       "      <td>stuart little   is one of the best family ...</td>\n",
       "    </tr>\n",
       "    <tr>\n",
       "      <th>1</th>\n",
       "      <td>Neg</td>\n",
       "      <td>a movie like mortal kombat   annihilation wor...</td>\n",
       "    </tr>\n",
       "    <tr>\n",
       "      <th>2</th>\n",
       "      <td>Neg</td>\n",
       "      <td>and just when you thought joblo was getting a...</td>\n",
       "    </tr>\n",
       "    <tr>\n",
       "      <th>3</th>\n",
       "      <td>Pos</td>\n",
       "      <td>every now and then a movie comes along from a...</td>\n",
       "    </tr>\n",
       "    <tr>\n",
       "      <th>4</th>\n",
       "      <td>Neg</td>\n",
       "      <td>for about twenty minutes into mission impossi...</td>\n",
       "    </tr>\n",
       "  </tbody>\n",
       "</table>\n",
       "</div>"
      ],
      "text/plain": [
       "  class                                               text\n",
       "0   Pos      stuart little   is one of the best family ...\n",
       "1   Neg   a movie like mortal kombat   annihilation wor...\n",
       "2   Neg   and just when you thought joblo was getting a...\n",
       "3   Pos   every now and then a movie comes along from a...\n",
       "4   Neg   for about twenty minutes into mission impossi..."
      ]
     },
     "execution_count": 3,
     "metadata": {},
     "output_type": "execute_result"
    }
   ],
   "source": [
    "input_data.head()"
   ]
  },
  {
   "cell_type": "code",
   "execution_count": 4,
   "metadata": {},
   "outputs": [
    {
     "data": {
      "text/plain": [
       "Index(['class', 'text'], dtype='object')"
      ]
     },
     "execution_count": 4,
     "metadata": {},
     "output_type": "execute_result"
    }
   ],
   "source": [
    "input_data.columns"
   ]
  },
  {
   "cell_type": "code",
   "execution_count": 5,
   "metadata": {
    "scrolled": true
   },
   "outputs": [
    {
     "name": "stdout",
     "output_type": "stream",
     "text": [
      "    stuart little   is one of the best family films to come out this year    it s a cute   funny and very good natured film that has nothing for parents to squirm over except a few mild cusswords    though i read the book a long time ago and i really do not remember what it was about   i do know that this film does not disappoint    finally a movie gets released that is as good as the trailer makes it to be   with a few surprising twists   some very funny moments   and a few sentimental moments all mixed in to one great little movie    stuart little is a mouse    he has finally gotten a new home after being put up for adoption   he now lives with the littles    a nice little   no pun intended   family that lives in their apartment next to central park in new york city    they have a little boy george   played by the adorable jonathan lipnicki   and now they have a new son    at first stuart takes a while but he finally adjusts to being part of the family and even getting along with the pet cat    george doesn t take too well to having a mouse for a brother at first   but once the two play together they instantly bond    stuart however is missing something   and he wants to know who his real parents are    the littles try and find his parents and one day they show up on the doorstep wanting stuart back    hesitating the littles know what s best for stuart and so does snowball the pet cat   he and his friends try to get stuart but in the end we find out the truth about stuart s past ending up to a sentimental and very heart warming ending    one thing i noticed about the film instantly was the fantastic special effects    just like in   star wars   episode 1  the phantom menace   stuart little and his family are all computer generated and they look fantastically real    from the detail of their fur   to the detail of the way the walk   the special effects team put a lot of time and effort on this $90 million dollar film and it shows    another movie that this has in common with is   babe   with it s talking animals and people understanding them    it has a family friendly atmosphere and is never really scary or suspenseful enough to even scare the youngest of kids    michael j   fox does the voice of stuart himself and just like in the   homeward bound   movies does a fantastic job and brings more out of stuart than anyone else could    he to me fits the character perfectly and ends up making stuart even more lovable    another gem of the film is nathan lane as snowball    when he was timon in 1994 s   the lion king   i would have sworn he was a comedian   and now in   stuart little   he brings the most out of snowball and makes him one of those characters we love to dislike    for the human actors geena davis who never gives a bad performance does not disappoint here as well    she fits nicely in her character and there is a good chemistry between her and hugh laurie who plays mr   little    both make us believe they are happily in love and married and jonathan lipnicki as their song is even more adorable than he was in 1996 s   jerry maguire      even though stuart little is completely cgi   the human characters and stuart have a nice chemistry together and even makes us believe they really do care for each other       stuart little   is ideal family entertainment for this holiday season and will not disappoint youngsters or adults for that matter    we get entertainment   laughs   cries and more fun at the movies this season than probably any other movie    its nice to see a pg rated movie out at christmas that everyone can see    even though it has a $90 million dollar budget i m sure it will make over that or just below it respectively    for all you parents out there trying to find a good family movie   i have yet to see bicentennial man as i write this but as far as i know   stuart little   and   toy story 2   are by far the best family films this year    a winner      \n",
      "\n",
      "\n",
      " a movie like mortal kombat   annihilation works   and must be reviewed on   multiple levels    first   there s the rampant usage of randian subtext that pervades the entire movie    but occasionaly   almost as if making an ironic   self depreciating remark   the movie tosses in clearly marxist imagery    no no        just kidding    had you going there for a moment   didn t i    in all seriousness however   and to be fair to the movie   it * is * necessary to provide two viewpoints   that of a movie watcher unfamiliar   or only marginally familiar   with the whole mortal kombat phenomenon   and that of a fan of the first movie and/or a fan of the games    the first movie   mortal kombat   1995     concerned itself with a martial arts tournament that would decide the fate of earth   and it s 5 billion inhabitants      the mortals won   and in theory this should have prevented the emperor shao khan from taking over the earth    unfortunately   shao khan was a poor loser   and the very final scene in mortal kombat showed him arriving anyway   ready to take over the planet   as our heroes assumed a fighting stance    the first movie was extraordinarily entertaining for those   like myself   who are fans of the game    i d even go so far as to say that many folks who didn t know about the game probably enjoyed the movie    the writers and directors knew the limitations of both their cast and of the basic story itself   and they didn t try to overachieve    there were a lot of really cool fight scenes   with really cool accompanying music     intersperesed with some distracting   but ultimately non intrusive   bits of fluff passing itself off as a plot    and   as we know   the movie was a smashing success at the box office    mortal kombat   annihilation picks up precisely where that movie left off   with some introductory exposition to clue in those who may not have seen the first movie    shao khan has decided that he s going to take over the earth * anyways *   and to hell with some silly rule about mortals winning the tournament    thereafter follows approximately 85 minutes of film that alternates between being confused   being trite   being silly   and being just plain stupid    one gets the general impression that the producers of the movie thought   hey   that last movie was such a success that we can get more money and make a * real * movie now      too bad they didn t simply stick with the formula from the first movie    i could write volumes about the things that are wrong with this picture   but here are the high points     * the acting is truly bad    sandra hess   playing the sonya blade character   is particularly execrable   especially in scenes where she tries to convince us that she loved johnny cage   a character from the first movie who gets greased at the beginning of this movie       * in one of the worst pieces of mis casting i think i ve * ever * seen   james remar plays raiden   the god of thunder    in the first movie   christopher lambert played raiden and played his character as though he was in on the joke   a french actor playing a japanese thunder god being revered by chinese mystics    i generally like it when actors are cast against type   tim   tiny   lister   jr   being cast as the president of the u   s   in the fifth element   for example     and remar has always been one of my favorite   utility   actors but he s so totally wrong for this part that he doesn t even have the luxury of amused self awareness     * there are too many characters that are introduced as being potentially important   but then never seen again     * there are a number of completely meaningless story sidetracks   including a muddled scene where liu kang   robin shou   seeks out nightwolf   litefoot     has a mystical hallucination   and then wanders off with jade   irina pantaeva      for these reasons   and many others     i can only give the movie a 2               unless you re a huge fan of the games and/or the first movie    in that case   the following critiques also apply     * sandra hess   while being an even worse actress than bridgette wilson   who played sonya blade in the first movie     is much more convincing as a fighter    wilson looked like she was simply mimicing some movements taught to her by the fight choreographer    hess looks like she actually knows some martial arts   and puts together a much more believable fight scene     * in the fights   each of the characters does at least * one * thing they do in the game   and often more      sonya does her   kiss of death     jax does his   earthquake     liu kang does his   animality     and so on    a big bonus for those of us who were looking for similar moves in the first movie and found them only rarely     * there aren t as many fight scenes in this movie as there were in the first   because the folks making the movie mistakenly try to hang a more robust plot in between    silly   silly folks    and the lamest fight involved two of the women in what turns into a mud wrestling match    lame and so obviously sexist even i   politically incorrect   for the most part   noticed and remarked upon it     * the special effects are generally better   except for the final fight scene between the emporer and liu kang in which both perform their   animalities      motaro and sheeva are both more convincing and lifelike than goro was in the first movie    for folks like myself who loved the first movie and enjoy the games   i give this a 5    you ll probably like it   but not nearly as much as you liked the first one    \n",
      "\n",
      "\n",
      " and just when you thought joblo was getting a little soft around the corners   not rating anything lower than your standard   this movie sucks     along comes this cinematic atrocity and he s forced to take out his secret weapon and spray it with a stench so thick   even the bravest movie goer would think twice about seeing this waste of time    yes   despite being a third sequel to a successful original movie   the latest highlander doesn t seem to have anything going for it    oh stinky movie   let me count thee ways        plot     from what i understood   a really bad highlander dude comes to the present looking to whack out the nice highlander dudes in order to gain their power and become the mightiest immortal       or  something along those lines    critique   a complete and utter mess    disjointed   incoherent   boring   corny   filled with bad dialogue       and  that s just the first thirty minutes !  this film doesn t seem to know what to do with itself    it s confusing to anyone who doesn t know the series   i include myself in that group   and apparently idiotic to those who do know the series   i include die hard highlander fan the arrow in that group      the film doesn t explain anything about itself       it  just goes from one inexplicable situation to another    one moment they re in the present time   the next moment   they re in italy in the 1600s    why    who knows    what are they talking about    no idea    flashbacks mixed in with the present   mixed in with a few spontaneously cheesy fight sequences every now and again   and i even remember seeing one flashback scene which went even further into its own flashback scene ! !  hullo         !    confused yet    i was and i basically stopped giving a crap about anyone in the film when i realized that neither the writer or director was interested in presenting me with any kind of semblance of a story    random swordplay   mad max like dudes showing up in motorcycles in the 1800s    or were they in the present at that time    who knows       and to be honest       who  seriously cares !  this series should have been shot in the head and put out of its own misery a long time ago   but sadly   someone at the studio decided that it still had a little life left in it    please   please       for the love of god and all that is holy in the world of movie making   and mostly out of respect for those who loved the original film   put this series to bed and end it !  even christopher lambert knew enough to play second fiddle to adrian paul in this one    the director also tries to do the best he can with the muddled material   but all he could come up with is plenty of slo mo action   some fast motion fight scenes and lots of smoke everywhere    and is there anything spectacular about the sword play or fight scenes    nope    and i think we all could have done without all those zooming lambert face close ups       yipes    the man is not aging gracefully   is he    oh boy   and i haven t even gotten around to the greatest piece of over acting that i ve seen in years    the man who plays kell in this movie   bruce payne   should get a ham trophy for literally chewing up every piece of scenery that he gets near    overacting is not a hobby for this guy       it s  a living !  he s also very funny   not purposely though    all in all   the movie stinks    nuff said    \n",
      "\n",
      "\n",
      " every now and then a movie comes along from a suspect studio   with every indication that it will be a stinker   and to everybody s surprise   perhaps even the studio   the film becomes a critical darling    mtv films   election   a high school comedy starring matthew broderick and reese witherspoon   is a current example    did anybody know this film existed a week before it opened    the plot is deceptively simple    george washington carver high school is having student elections    tracy flick   reese witherspoon   is an over achiever with her hand raised at nearly every question   way   way   high    mr     m     matthew broderick     sick of the megalomaniac student   encourages paul   a popular but slow jock to run    and paul s nihilistic sister jumps in the race as well   for personal reasons    the dark side of such sleeper success is that   because expectations were so low going in   the fact that this was quality stuff made the reviews even more enthusiastic than they have any right to be    you can t help going in with the baggage of glowing reviews   which is in contrast to the negative baggage that the reviewers were likely to have     election   a good film   does not live up to its hype    what makes  election  so disappointing is that it contains significant plot details lifted directly from  rushmore    released a few months earlier    the similarities are staggering    tracy flick    election    is the president of an extraordinary number of clubs   and is involved with the school play    max fischer    rushmore    is the president of an extraordinary number of clubs   and is involved with the school play    the most significant tension of  election  is the potential relationship between a teacher and his student    the most significant tension of  rushmore  is the potential relationship between a teacher and his student    tracy flick is from a single parent home   which has contributed to her drive    max fischer is from a single parent home   which has contributed to his drive    the male bumbling adult in  election    matthew broderick   pursues an extramarital affair   gets caught   and his whole life is ruined    he even gets a bee sting    the male bumbling adult in  rushmore    bill murray   pursues an extramarital affair   gets caught   and his whole life is ruined    he gets several bee stings    and so on    what happened    how is it that an individual screenplay    rushmore    and a novel    election    contain so many significant plot points   and yet both films were probably not even aware of each other   made from two different studios   from a genre   the high school geeks revenge movie   that hadn t been fully formed yet    even so   the strengths of  election  rely upon its fantastic performances from broderick   witherspoon   and newcomer jessica campbell   as paul s anti social sister   tammy    broderick here is playing the mr   rooney role from  ferris bueller    and he seems to be having the most fun he s had since then    witherspoon is a revelation    it s early in the year   it s a comedy   and teenagers have little clout   but for my money   witherspoon deserves an oscar nomination    and once campbell s character gets going   like in her fantastic speech in the gymnasium   then you re won over    one thing that s been bothering me since i ve seen it    there is an extraordinary amount of sexuality in this film    i suppose that   coming from mtv films   i should expect no less        but the film starts off light and airy   like a sitcom    as the screws tighten   and the tensions mount   alexander payne decides to add elements that   frankly   distract from the story    it is bad enough that mr   m doesn t like tracy s determination to win at all costs   but did they have to throw in the student/teacher relationship    even so   there s no logical reason why mr   m has an affair when he does    there s a lot to like in  election    but the plot similarities to  rushmore    and the tonal nosedive it takes as it gets explicitly sex driven   mark this as a disappointment    \n",
      "\n",
      "\n",
      " for about twenty minutes into mission impossible 2 director john woo   the killer   hard boiled   face off   appears to have made an exciting   elegant   charming spy thriller   kind of a post millennium james bond adventure with a strapping american   read   unsophisticated   hero more willing to drop kick villains than out fox them    sadly   as the picture progresses   the final product begins to bear a closer resemblance to a souped up   two hour long episode of magyuver    and not a particularly good one at that    what went wrong    mi2 begins flashily enough   that initial flash leading us to believe that it ll soon give way to something of a plot   but it only gives way to more flash   then digresses further into a presumably unintentional parody of itself with much slo mo posturing and countless action set pieces wherein bad guys seem to deliberately leap into the way of tom cruise s firing gun just so they can die really cool    early on   during a car chase between soon to be lovers ethan hunt   tom cruise   and nyah nordoff hall   thandie newton     woo works some of his trademark magic    in one hypnotic   though completely inexplicable sequence   the director slows the action down to a languid semi stall as cruise and his stunning opponent stare into one and other s eyes with come hither sexuality       just as their respective cars smash and spin in accordance   coming ever so close to toppling over a neighboring cliff    prior to this we see the famed trailer opener of cruise climbing a steep mountain   sans scaffolding   then leaping from one jagged rock formation to another    why    i haven t the foggiest    i doubt even john woo could provide you with a logical reply    with mi2 woo has become a slave to the summer movie machine   the one that jettisons logic for gravity defying effects and story for more gravity defying effects    it s possible that these   spies   could be adrenaline junkies climbing mountains and crashing into each other as means to get off   though of course this is never explored    the scenes i ve described are really only included to titillate   not to give any insight into character    god forbid    woo certainly knows how to make each set piece energetic   but they remain individual set pieces never connecting to form anything more than splices of beer commercial like visuals    still in terms of crackerjack eye candy   the opening has much to cherish    cruise and newton first meet during a vigorous flamenco dance featuring several welcome woo devices   the graceful slow mo artistry of synchronized movement juxtaposed against the stage 1 romance of two attractive individuals discovering how attractive the other is      between the frantic dancing   woo trains his camera on cruise and newton as they make with some sensuous eye contact    the scene is a little over the top in a bon jovi music video circa 1988 kind of way   yet it has style and something of soul   and woo casts a bit of a spell on us    sure it s all smoke and mirrors   but we can see that there happens to be a talented maestro behind this particular product    thandie and cruise later meet in a bathtub in a scene that s about half as playfully charming as the jennifer lopez \\ george cloony trunk meeting in out of sight    they flirt and exchange obvious double entendres    newton bats her eyes flirtatiously    cruise grins a little too slyly    the cruise character   ethan hunt   has been drastically altered since the first film    here cruise plays him more as a hip   sexual dynamo than the square jawed robot he impersonated in part 1    he s cool and dashing   which is precisely the kind of role we want to see cruise in after watching him sleep walk through eyes wide shut   which might just be the longest episode of red show diaries ever committed to film     and blustered his way through magnolia   quite possibly the most overrated performance of the 90 s      sadly as the film progresses we see less of cruise s initial   i m the man !    charm and more slo mo close ups of his preening mug    mi2 falls apart on nearly every level during its repetitious third act   which is essentially one hour long action sequence that just won t stop    the whole thing commences with an utterly generic gun battle   the first gun fight in the film     which really should be unheard of in a john woo film   but alas this particular battle could ve been staged by anyone from renny harlin to joseph merhi   of course excepting the   symbolic   pigeons who seem to find their way into every john woo picture      we ve all seen guys slide across the floor in slo mo while firing a gun in each hand    it isn t done any differently here    the action is pure hard target \\ broken arrow theatrics with nothing to propel it but the apparent need to see tom cruise drop kick face less villains while his hair whips stylishly in the wind    he s cool for sure but he s made to be as empty as the movie    the actor isn t used so much for his boyish appeal as for his chiseled looks   he smiles narcissistically into the camera at literally any moment   be it during a gunfight   before one or after one    when he s not beaming away   he s staring into the lens with cold eyes trying to look mad as hell   but woo s editing seriously undermines the effort    he fetishizes cruise s angular face with such glee that it turns into a naked gun style spoof    i half expected cruise to peel off his facemask and reveal that he s really austin powers    in a classic woo action moment   ethan hunt struts past a fiery doorway glaring at the baddies within its frame like a pin up boy angel of death    the gunfight turns into a daring escape which turns into a reckless mission which turns into a motorcycle attack in which bad guys seem to angle directly for cruise to kill them like some kind of mass suicide ritual   one dumb bastard even jumps his bike over the gun toting cruise   basically inviting our handsome hero to shoot him in mid air which he does      the lead bad guy   played by the appropriately british dougray scott   and cruise face off in a mentally deficient game of chicken       on motorcycles    though instead of jumping off to the side at the last moment   the two grown men leap directly into the other giving each other a mid air bear hug   only to fly about a hundred feet   still in bear hug position     land on a beach below and begin a mano e mano fist fight that ends with the bad guy pulling a   so you thought i was dead            not to worry   cruise takes care of the problem without even breaking a sweat    what a hero !  you may have noticed that i opted not to describe an iota of mi2 s plot    my reasoning is simple   i m not sure of any good it would do    the film itself has absolutely no concern with story   only with hurtling forth to the next   special   effect    i wasn t kidding when i told a friend of mine that mi2 has less plot than the average aerosmith video    nobody will go to this for the plot   and if they do they ll surely regret it    as summer movies evolve   or devolve   character and plot have become increasingly whittled down to nearly nothing    in mi   the plot seemed to be built around brian de palma s   that film s director   stylistic flourishes   while in mi2 the plot only serves to give us an intermittent breather from woo s non stop masturbatory pandemonium    it s irrelevant in every sense   as is character    all that ultimately matters are those pesky smoke and mirrors    \n",
      "\n",
      "\n",
      " for better or worse   the appearance of basic instinct in the movie marketplace gave the greenlight to a whole slew of overheated   oversexed   underwritten thrillers    apparently not having joe eszterhas as the writer doesn t change a thing   since body of evidence wasn t written by him   but has a puzzling eszterhas ish presence all over it    in other words   it s a   really dirty and b   really   really stupid    madonna   first warning sign   stars in body of evidence as a woman who has piles of money and no apparent job   she lives on a houseboat and likes to parade around semi naked   presumably for the edification of the shrimp    she s been accused of having murdered an older man who was her lover    already two classic examples of hollywood sexism are in effect    the first being that any woman in a movie cannot be sexual unless she s under thirty   or at least looks it     and that they usually only exist for the sake of studs or filthy rich older men    what s worse is that the movie confirms all the above   and wallows in them as well    madonna s character is accused of forcing sex on the old goat when she knew darned well he had a heart condition       and yes   there are the obligatory cracks from the cops about how at least he died happy    this movie leave no scummy stone unturned      anyway   willem dafoe   very good but completely wasted   also stars as the lawyer who is doomed to run afoul of madonna s sexuality    how do we know this    because his character is set up with the token wife and kids    how obvious is it that he s gonna cheat on her and have to fess everything up    and get kicked out of the house    and get welcomed back anyway    don t skip to the end yet   we re just getting warmed up    dafoe and madonna have a lot of sex in this movie    most of it is about as erotic as open heart surgery   since it involves such goodies as hot candlewax   always the kink of choice among screenwriters who don t know the first thing about * really * kinky sex   and smashed light bulbs    don t ask    another thing that people are starting to realize about explicit sex in movies is that unless it is critically important to the story   it s insanely dull    what s worse is that body of evidence is dull * everywhere *   not just in the sex scenes    the stuff in the courtroom is recycled ninth hand from other bad courtroom drama scenes    the thriller business itself is ridiculous    it involves nasal spray bottles and drugs   and juergen prochnow as a surly doctor    and the ending    another homage to eszterhas   maybe       is one of those endings where you can almost see the exact * frame * where one of the five or six various endings to this mess was spliced in    the director is uli edel   all the more disappointing since he also directed the elegiac and powerful last exit to brooklyn and christiane f   everyone has to eat   i guess   but this isn t a meal ticket   it s leftovers    \n",
      "\n",
      "\n",
      " i have a great idea for a movie   one that can t miss    see   i ve got coolio to do a song for the soundtrack   and about fifty athletes and celebrities to do cameo appearances    it s about professional basketball   so i ll release it right around the nba finals to guarantee added publicity    as for what the movie is actually about       well   that will all sort itself out eventually    i figure it will be a comedy   so i ll throw a half dozen writers at it and take the best of whatever they come up with    maybe we ll put a gender spin on it   see if we can get some women out to see it   too    eddie is one of those phenomenally lazy films that infuriates me more than any other kind    twister   as inane as the script might have been   at least required some creative technicians   mission   impossible   overwrought plot and all   at least involved genuine effort    eddie just sits there   hawking up a formula story without any laughs   and makes every possible bad decision when a decision is required    whoopi goldberg plays eddie franklin   a new york limo driver and die hard knicks fan who is suffering through a dismal season for her beloved team    coach john bailey   dennis farina   has lost control of his overpaid prima donnas   and the losses are beginning to mount    the dwindling attendance inspires new team owner wild bill burgess   frank langella   to try a publicity stunt in which a lucky fan will get to be an honorary coach of the team    the winner   surprise   surprise   is eddie   who becomes a fan favorite   and eventually the actual coach    the knicks continue to lose   but eddie has some sassy tricks up her sleeve to inspire her troops    incidentally   the knicks eventually start winning    please raise your hand if that comes as a shock   and i will invite you to my all night marathon of the bad news bears   major league   angels in the outfield   the mighty ducks   the big green   cool runnings and little giants    awful teams in sports comedies make miraculous turnarounds   it s what they do    those teams usually involve kids   for a very sound comedic reason   it s funnier when they screw up   and they re more sympathetic    those which  don t  involve kids usually have actual actors in the lead roles   for another very sound comedic reason   they generally have developed some sort of comic timing    eddie was cast under the misguided premise that it s easier to make basketball players look like actors than it is to make actors look like basketball players    this finds nba players like greg ostertag   dwayne schintzius   rick fox and malik sealy delivering punch lines as though they were reading them for the first time off a bazooka wrapper   though sacramento kings center olden polynice has a nice moment describing a black hole to fellow players      perhaps that all didn t matter to anyone because there are so few punch lines   and because the whole film is one big casting gimmick    steve rash directs the spiritless script as though waving a flag of surrender and screaming     don t blame me   i just work here      perhaps it was patently obvious to him that eddie isn t a movie    it s a cameo appearance that trips over a plot every once in a while    among the notables who lend their faces to this travesty are donald trump   new york mayor rudolph giulianni   former new york mayor ed koch   david letterman   letterman regulars mujibur rahman and sirajul islam   espn broadcaster chris berman and knicks announcer marv albert   as well as dozens of nba players and several nba arenas    and those are the real jokes in eddie    nothing these individuals say or do is funny   you are supposed to be laughing simply because you notice     hey   it s donald trump !    or   hey   it s mujibur and sirajul !    it s difficult to decide whether eddie is so bad because it was so shamelessly lacking in imagination or because it can t even get the cliches in a cliche ridden genre script right    the knicks coach who is eddie s antagonist early in the film reappears at the end   but he isn t given a chance to be the villain eddie desperately needs    neither is frank langella   and none of the athlete actors have the ability to give whoopi goldberg anything to play off of    that leaves her to do her street wise miss thang routine   but with no character   no sharp lines and no help    eddie isn t just a bad movie with a formulaic premise    it s a movie that makes you feel cheated and offended   because someone came up with a poster and a marketing plan to which they had to attach an actual movie   and you had the nerve to believe it was going to be a comedy    \n",
      "\n",
      "\n",
      " if he doesn=92t watch out   mel gibson is in danger of being known as someone other than mad max    of course there are still a few big guns in this film   but there=92s some accomplished acting too    although gibson continues to shed his rough and gritty anti hero skin as his career progresses   here he explores a new genre   the businessman as action hero    in ron howard=92s latest film   gibson plays tom mullen   a gazillionaire airline owner whose son is snatched from the junior science fair by kidnappers    mullen at first agrees to pay the ransom   but when things fall apart he rethinks the situation    a veteran of numerous hard nosed business negotiations   the tycoon realizes that in order to get his son back alive   he has to play his hand differently    the casting is what puts this film over the top    the trio of gibson   the kidnappers  mastermind   gary sinise   and fbi team leader   delroy lindo   play off of each other wonderfully    sinise is perfect as the driven scheming sleezebag is right on the mark    his speech to mullen over a walkie talkie about h   g   wells=92 morlocks and eloi reveal his vision of=  society   mullen and the other glitteratti frolic up on high while sinise and the other lowlifes dwell below   feeding off the unsuspecting    gibson=92s character is an all american hero with a few flaws    his cowboy=  tactics tend to work   but they are also what got him into this situation to begin with    in a round about way   if he weren=92t known as a man who i= s willing to buy his way out of trouble   his son wouldn=92t have been kidnapped    as sinise says   you=92re a payer    you did it once and now you=92re going to do it again      one of the nicest elements of this film is that most of the characters actually have personalities    lindo calls home to talk to his kids   obviously shaken at working this case    even the kidnappers are real people   arguing about the ultimate fate of sean mullen and feeding him candy bars    gibson=92s break down on the balcony of their penthouse apartment is especially effective    it=92s one of the best filmed representations of a man=92s world falling apart that i=92ve seen    it=92s not all perfect    the shoot  em upending   while emotionally satisfying seems tacked on to be just that rather than to provide a powerful resolution    as well crafted as the scene is   we=92ve seen it before    mullen=92s wife   rene russo   has several good moments   but occasionally just seems to be there    while adequate   brawley nolte   sean   doesn=92t provide much to the film other than occupying space to build the story around    but you=92ll ignore these problems as each minute of the movie builds on the previous one    forget about the large coke   you won=92t want to leave for that five minute break an hour later    \n",
      "\n",
      "\n",
      " if there s one thing in common about all of hollywood s major studios   it s that their productions are moving toward mainstream more and more    although twentieth century fox and new line cinema have spawned subsidiaries which specialize in independant or controversial motion pictures   fox searchlight and fine line respectively     it s obvious there s no significant movement underway to promote inventive ideas at the theater    so when a movie like gary ross  pleasantville comes along   wrapped in a blanket of innovative ideas and served up on a platter of fine production   it s a welcome change of pace for all who frequent the cineplexes    although the atmosphere and buzz about the movie are cheery and lighthearted   pleasantville should not be mistaken for a no thought movie    quite the opposite is true   in fact   as director ross skillfully brings a narrative with intense and intelligent undertones to the screen    the story   both about the joys of living life to the fullest as well as the social ills of segregation   captures the essence of statement making in the cinema    not in recent memory has a movie carried such weight of theme into widescale distribution   and even if mass audiences fail to see the ingenuity of ross  work   it is still a testament that his picture was considered worthy enough    kudos to both he and his production staff for putting together this fine picture    it stars tobey maguire and reese witherspoon as two nineties teenagers who   through quite a bit of luck   find themselves zapped into a fifties sitcom named   pleasantville      maguire   as the reserved bud parker   is perfect for the pseudo world   but the rebellious mary sue   witherspoon   is not at all made for the father knows best times    it s not long before she sets the town of pleasantville on end   and begins to teach the townspeople   in a quite unlikely way   what life is * really * like    soon hues of color creep into the black and white world   and while some embrace the change in the passion of realism   others fear the strangeness    at one end is a soda shop owner turned painter named mr   johnson   jeff daniels   and at the other end is a close minded mayor   j   t    walsh   and his chamber of commerce   but the two sides are simply fronts for a clash of ideas that soon involves the entire town    fine performances are turned in all around    maguire and witherspoon are effective as the leads   but the true complements go out to jeff daniels and j   t    walsh   in his latest and final posthumous performance      daniels brings an atmosphere of awe   inspiration   and hope to his character   whereas walsh simply drips of sinister closemindedness   almost to the point where you can sense gene hackman s envy    for daniels   it s his most commendable performance of the last three years   or more   and for walsh   it s a complementary exclamation point on a fine career    also of lesser note is the supporting role by joan allen   and in viewing the entire cast works well together from start to finish    there s not much to dislike about pleasantville   and its dynamic nature makes it the perfect movie for those who want serious as well as those who don t    \n",
      "\n",
      "\n",
      " if you haven t plunked down your hard earned money yet for   wild wild west     the latest summer holiday offering from will smith   let me say right now that your money will be better spent on a starbuck s frappacino or on a ben & jerry s sundae    these treats are great relief from the summer heat    in contrast   this film made me simmer in disappointment    i can accept the fact that summer movies tend to put more weight into special effects and that good stories and flavorful characters usually take a back seat    this was true of star wars episode i   but at least in that film   the story and the characters were still in the back seat    in this film   they are no where to be found    what remains are hundreds of male extras costumed as gunslingers and foppish aristocrats   lots of female extras who look like can can dancers   and a clunky   80 foot tall instrument of destruction that resembles a mechanical tarantula    two men are asked to stop this threat    one is artemus gordon   kevin kline     an inventor who uses his intellect and array of disguises to best his opponents    among his creations are false breasts and the bulletproof vest    the other man is jim west   will smith     who prefers the shoot first then shoot some more method of investigating    although their individual talents must be combined to achieve success   their interaction with one another merely seemed like a second rate   two man vaudevillian act    for example   there is a scene where west   being more debonair than the reserved gordon   notes that the fake breasts should be filled with water rather than buckwheat   which is what it is currently filled with       now touch my breast     west says    gordon does so and then softly coos his approval    i found myself groaning at this kind of silliness    the script fails to generate any sense of drama   humor   or fun for that matter    i did enjoy kline s reserved performance   but was surprised at how much latitude they gave to smith    could it be that will smith is just so bankable that he s not even required to act    it was as if the director was yelling   will smith   do your own thing       and  action !    here s an example    in this scene   will smith is about to be hanged by a group of angry white people    he must endear himself to the crowd to escape    the director yells     will smith   do your own thing       and  action !    in another scene   he has to masquerade as a belly dancer in order to save his comrades       will smith   do your own thing       and  action !    worse still   the final battle scene aboard the mechanical tarantula is a horrid mess    there are cogs spinning and pulleys pulling and levers going up and down everywhere you look    there s actually a lot of imagination at work in this film    there are some genuinely clever inventions and gizmos introduced   but all of this imagination is wasted in a film that is visually cluttered and dramatically flat    and that s too bad because if there was more focus on the story rather than will smith just doing his  thing     this film might have been palatable    as it turns out     wild wild west   is the wild   wild worst and receives my vote for biggest disappointment of the year    \n",
      "\n",
      "\n"
     ]
    }
   ],
   "source": [
    "# displaying the 10 full reviews\n",
    "for i in range(10):\n",
    "    print(input_data['text'][i])\n",
    "    print('\\n')\n",
    "    "
   ]
  },
  {
   "cell_type": "code",
   "execution_count": 6,
   "metadata": {},
   "outputs": [],
   "source": [
    "# details of the data"
   ]
  },
  {
   "cell_type": "code",
   "execution_count": 7,
   "metadata": {},
   "outputs": [
    {
     "data": {
      "text/plain": [
       "(2000, 2)"
      ]
     },
     "execution_count": 7,
     "metadata": {},
     "output_type": "execute_result"
    }
   ],
   "source": [
    "input_data.shape"
   ]
  },
  {
   "cell_type": "code",
   "execution_count": 8,
   "metadata": {},
   "outputs": [
    {
     "data": {
      "text/plain": [
       "Index(['class', 'text'], dtype='object')"
      ]
     },
     "execution_count": 8,
     "metadata": {},
     "output_type": "execute_result"
    }
   ],
   "source": [
    "input_data.columns"
   ]
  },
  {
   "cell_type": "code",
   "execution_count": 9,
   "metadata": {},
   "outputs": [
    {
     "data": {
      "text/plain": [
       "Pos    1000\n",
       "Neg    1000\n",
       "Name: class, dtype: int64"
      ]
     },
     "execution_count": 9,
     "metadata": {},
     "output_type": "execute_result"
    }
   ],
   "source": [
    "# frequency of sentiments\n",
    "input_data['class'].value_counts()"
   ]
  },
  {
   "cell_type": "code",
   "execution_count": 10,
   "metadata": {},
   "outputs": [
    {
     "data": {
      "text/html": [
       "<div>\n",
       "<style scoped>\n",
       "    .dataframe tbody tr th:only-of-type {\n",
       "        vertical-align: middle;\n",
       "    }\n",
       "\n",
       "    .dataframe tbody tr th {\n",
       "        vertical-align: top;\n",
       "    }\n",
       "\n",
       "    .dataframe thead th {\n",
       "        text-align: right;\n",
       "    }\n",
       "</style>\n",
       "<table border=\"1\" class=\"dataframe\">\n",
       "  <thead>\n",
       "    <tr style=\"text-align: right;\">\n",
       "      <th></th>\n",
       "      <th>text</th>\n",
       "    </tr>\n",
       "    <tr>\n",
       "      <th>class</th>\n",
       "      <th></th>\n",
       "    </tr>\n",
       "  </thead>\n",
       "  <tbody>\n",
       "    <tr>\n",
       "      <th>Neg</th>\n",
       "      <td>1000</td>\n",
       "    </tr>\n",
       "    <tr>\n",
       "      <th>Pos</th>\n",
       "      <td>1000</td>\n",
       "    </tr>\n",
       "  </tbody>\n",
       "</table>\n",
       "</div>"
      ],
      "text/plain": [
       "       text\n",
       "class      \n",
       "Neg    1000\n",
       "Pos    1000"
      ]
     },
     "execution_count": 10,
     "metadata": {},
     "output_type": "execute_result"
    }
   ],
   "source": [
    "# to check how many total positive and negative labelled text are there in the dataset\n",
    "input_data.groupby('class').count()"
   ]
  },
  {
   "cell_type": "code",
   "execution_count": 11,
   "metadata": {},
   "outputs": [],
   "source": [
    "import seaborn as sns"
   ]
  },
  {
   "cell_type": "code",
   "execution_count": null,
   "metadata": {},
   "outputs": [],
   "source": []
  },
  {
   "cell_type": "markdown",
   "metadata": {},
   "source": [
    "# Creating Document Term Matrix(DTM)"
   ]
  },
  {
   "cell_type": "code",
   "execution_count": 29,
   "metadata": {},
   "outputs": [],
   "source": [
    "from sklearn.feature_extraction.text import CountVectorizer"
   ]
  },
  {
   "cell_type": "code",
   "execution_count": 30,
   "metadata": {},
   "outputs": [],
   "source": [
    "countvec1 = CountVectorizer()\n",
    "dtm_v1 = pd.DataFrame(countvec1.fit_transform(input_data['text']).toarray(), columns = countvec1.get_feature_names(), index = None)\n",
    "dtm_v1['class'] = input_data['class']"
   ]
  },
  {
   "cell_type": "code",
   "execution_count": 31,
   "metadata": {},
   "outputs": [
    {
     "data": {
      "text/html": [
       "<div>\n",
       "<style scoped>\n",
       "    .dataframe tbody tr th:only-of-type {\n",
       "        vertical-align: middle;\n",
       "    }\n",
       "\n",
       "    .dataframe tbody tr th {\n",
       "        vertical-align: top;\n",
       "    }\n",
       "\n",
       "    .dataframe thead th {\n",
       "        text-align: right;\n",
       "    }\n",
       "</style>\n",
       "<table border=\"1\" class=\"dataframe\">\n",
       "  <thead>\n",
       "    <tr style=\"text-align: right;\">\n",
       "      <th></th>\n",
       "      <th>00</th>\n",
       "      <th>000</th>\n",
       "      <th>0009f</th>\n",
       "      <th>007</th>\n",
       "      <th>00s</th>\n",
       "      <th>03</th>\n",
       "      <th>04</th>\n",
       "      <th>05</th>\n",
       "      <th>05425</th>\n",
       "      <th>10</th>\n",
       "      <th>...</th>\n",
       "      <th>zukovsky</th>\n",
       "      <th>zulu</th>\n",
       "      <th>zundel</th>\n",
       "      <th>zurg</th>\n",
       "      <th>zus</th>\n",
       "      <th>zweibel</th>\n",
       "      <th>zwick</th>\n",
       "      <th>zwigoff</th>\n",
       "      <th>zycie</th>\n",
       "      <th>zzzzzzz</th>\n",
       "    </tr>\n",
       "  </thead>\n",
       "  <tbody>\n",
       "    <tr>\n",
       "      <th>0</th>\n",
       "      <td>0</td>\n",
       "      <td>0</td>\n",
       "      <td>0</td>\n",
       "      <td>0</td>\n",
       "      <td>0</td>\n",
       "      <td>0</td>\n",
       "      <td>0</td>\n",
       "      <td>0</td>\n",
       "      <td>0</td>\n",
       "      <td>0</td>\n",
       "      <td>...</td>\n",
       "      <td>0</td>\n",
       "      <td>0</td>\n",
       "      <td>0</td>\n",
       "      <td>0</td>\n",
       "      <td>0</td>\n",
       "      <td>0</td>\n",
       "      <td>0</td>\n",
       "      <td>0</td>\n",
       "      <td>0</td>\n",
       "      <td>0</td>\n",
       "    </tr>\n",
       "    <tr>\n",
       "      <th>1</th>\n",
       "      <td>0</td>\n",
       "      <td>0</td>\n",
       "      <td>0</td>\n",
       "      <td>0</td>\n",
       "      <td>0</td>\n",
       "      <td>0</td>\n",
       "      <td>0</td>\n",
       "      <td>0</td>\n",
       "      <td>0</td>\n",
       "      <td>0</td>\n",
       "      <td>...</td>\n",
       "      <td>0</td>\n",
       "      <td>0</td>\n",
       "      <td>0</td>\n",
       "      <td>0</td>\n",
       "      <td>0</td>\n",
       "      <td>0</td>\n",
       "      <td>0</td>\n",
       "      <td>0</td>\n",
       "      <td>0</td>\n",
       "      <td>0</td>\n",
       "    </tr>\n",
       "    <tr>\n",
       "      <th>2</th>\n",
       "      <td>0</td>\n",
       "      <td>0</td>\n",
       "      <td>0</td>\n",
       "      <td>0</td>\n",
       "      <td>0</td>\n",
       "      <td>0</td>\n",
       "      <td>0</td>\n",
       "      <td>0</td>\n",
       "      <td>0</td>\n",
       "      <td>0</td>\n",
       "      <td>...</td>\n",
       "      <td>0</td>\n",
       "      <td>0</td>\n",
       "      <td>0</td>\n",
       "      <td>0</td>\n",
       "      <td>0</td>\n",
       "      <td>0</td>\n",
       "      <td>0</td>\n",
       "      <td>0</td>\n",
       "      <td>0</td>\n",
       "      <td>0</td>\n",
       "    </tr>\n",
       "    <tr>\n",
       "      <th>3</th>\n",
       "      <td>0</td>\n",
       "      <td>0</td>\n",
       "      <td>0</td>\n",
       "      <td>0</td>\n",
       "      <td>0</td>\n",
       "      <td>0</td>\n",
       "      <td>0</td>\n",
       "      <td>0</td>\n",
       "      <td>0</td>\n",
       "      <td>0</td>\n",
       "      <td>...</td>\n",
       "      <td>0</td>\n",
       "      <td>0</td>\n",
       "      <td>0</td>\n",
       "      <td>0</td>\n",
       "      <td>0</td>\n",
       "      <td>0</td>\n",
       "      <td>0</td>\n",
       "      <td>0</td>\n",
       "      <td>0</td>\n",
       "      <td>0</td>\n",
       "    </tr>\n",
       "    <tr>\n",
       "      <th>4</th>\n",
       "      <td>0</td>\n",
       "      <td>0</td>\n",
       "      <td>0</td>\n",
       "      <td>0</td>\n",
       "      <td>0</td>\n",
       "      <td>0</td>\n",
       "      <td>0</td>\n",
       "      <td>0</td>\n",
       "      <td>0</td>\n",
       "      <td>0</td>\n",
       "      <td>...</td>\n",
       "      <td>0</td>\n",
       "      <td>0</td>\n",
       "      <td>0</td>\n",
       "      <td>0</td>\n",
       "      <td>0</td>\n",
       "      <td>0</td>\n",
       "      <td>0</td>\n",
       "      <td>0</td>\n",
       "      <td>0</td>\n",
       "      <td>0</td>\n",
       "    </tr>\n",
       "  </tbody>\n",
       "</table>\n",
       "<p>5 rows × 39363 columns</p>\n",
       "</div>"
      ],
      "text/plain": [
       "   00  000  0009f  007  00s  03  04  05  05425  10   ...     zukovsky  zulu  \\\n",
       "0   0    0      0    0    0   0   0   0      0   0   ...            0     0   \n",
       "1   0    0      0    0    0   0   0   0      0   0   ...            0     0   \n",
       "2   0    0      0    0    0   0   0   0      0   0   ...            0     0   \n",
       "3   0    0      0    0    0   0   0   0      0   0   ...            0     0   \n",
       "4   0    0      0    0    0   0   0   0      0   0   ...            0     0   \n",
       "\n",
       "   zundel  zurg  zus  zweibel  zwick  zwigoff  zycie  zzzzzzz  \n",
       "0       0     0    0        0      0        0      0        0  \n",
       "1       0     0    0        0      0        0      0        0  \n",
       "2       0     0    0        0      0        0      0        0  \n",
       "3       0     0    0        0      0        0      0        0  \n",
       "4       0     0    0        0      0        0      0        0  \n",
       "\n",
       "[5 rows x 39363 columns]"
      ]
     },
     "execution_count": 31,
     "metadata": {},
     "output_type": "execute_result"
    }
   ],
   "source": [
    "dtm_v1.head()"
   ]
  },
  {
   "cell_type": "markdown",
   "metadata": {},
   "source": [
    "## What exactly is Document Term Matrix(DTM)\n",
    "\n",
    "A document-term matrix or term-document matrix is a mathematical matrix that describes the frequency of terms that occur in a collection of documents. In a document-term matrix, rows correspond to documents in the collection and columns correspond to terms.\n",
    "> I like to think Document Term Matrix (DTM) as a implementation of the Bag of Words concept.  Document Term Matrix is tracking the term frequency for each term by each document\n",
    "\n",
    ">Term count is a common metric to  use in a Document Term Matrix  but it is not the only metric. In a future post I will discuss some common functions used to calculate Term Frequencies but for this post I will use term counts.\n",
    "\n",
    "> For example, the word intelligent exists in Doc 1 twice, Doc 2 once, and not at all in Doc 3. A Document Term matrix can become a very large, sparse matrix depending on the number of documents in the corpus and the number of terms in each document.\n",
    "\n",
    ">The DTM representation is a fairly simple way to represent the documents as a numeric structure."
   ]
  },
  {
   "cell_type": "markdown",
   "metadata": {},
   "source": [
    "### Some points to take care\n",
    "> We have not taken care of words which should not be present or which should not be in sentiment analysis\n",
    "for example \"i love python and python language is very good\" this sentence can be converted to \"love python language very good. Words like i, and is should not be evaluated during calcultion of Document Term Matrix"
   ]
  },
  {
   "cell_type": "code",
   "execution_count": 32,
   "metadata": {},
   "outputs": [],
   "source": [
    "# Importing the important libraries\n",
    "import pandas as pd\n",
    "import re\n",
    "import nltk\n",
    "from nltk.stem.porter import PorterStemmer\n",
    "from nltk.corpus import stopwords"
   ]
  },
  {
   "cell_type": "markdown",
   "metadata": {},
   "source": [
    "## Refining The Document Term Matrix\n",
    "\n",
    "> Final result depend on how mush you have refined your document ter matrix(DTM)\n",
    "\n",
    "> Things we can do....\n",
    "\n",
    "    > *Removing numbers*\n",
    "    \n",
    "    > *removing punctuations*\n",
    "  \n",
    "    > *removing stopwords*\n",
    "  \n",
    "    > *Stemming*"
   ]
  },
  {
   "cell_type": "code",
   "execution_count": 33,
   "metadata": {},
   "outputs": [],
   "source": [
    "# Creating a function that will remove all the unnecessary words from the sentences\n",
    "# and will keep only the important words\n",
    "stemmer = PorterStemmer()\n",
    "def tokenise(text):\n",
    "    text = stemmer.stem(text);\n",
    "    text = re.sub(r'\\W+|\\d+|_', ' ', text) # this line removex all the punctuation, digits, and underscores from the text\n",
    "    tokens = nltk.word_tokenize(text)\n",
    "    return tokens"
   ]
  },
  {
   "cell_type": "code",
   "execution_count": 34,
   "metadata": {},
   "outputs": [],
   "source": [
    "countvec = CountVectorizer(min_df = 5, tokenizer = tokenise, stop_words = stopwords.words('english'))\n",
    "dtm = pd.DataFrame(countvec.fit_transform(input_data['text']).toarray(), columns = countvec.get_feature_names(), index = None)\n",
    "dtm['class'] = input_data['class']"
   ]
  },
  {
   "cell_type": "code",
   "execution_count": 35,
   "metadata": {},
   "outputs": [
    {
     "data": {
      "text/plain": [
       "pandas.core.series.Series"
      ]
     },
     "execution_count": 35,
     "metadata": {},
     "output_type": "execute_result"
    }
   ],
   "source": [
    "type(input_data['text'])"
   ]
  },
  {
   "cell_type": "code",
   "execution_count": 36,
   "metadata": {
    "scrolled": true
   },
   "outputs": [
    {
     "name": "stdout",
     "output_type": "stream",
     "text": [
      "    stuart little   is one of the best family films to come out this year    it s a cute   funny and very good natured film that has nothing for parents to squirm over except a few mild cusswords    though i read the book a long time ago and i really do not remember what it was about   i do know that this film does not disappoint    finally a movie gets released that is as good as the trailer makes it to be   with a few surprising twists   some very funny moments   and a few sentimental moments all mixed in to one great little movie    stuart little is a mouse    he has finally gotten a new home after being put up for adoption   he now lives with the littles    a nice little   no pun intended   family that lives in their apartment next to central park in new york city    they have a little boy george   played by the adorable jonathan lipnicki   and now they have a new son    at first stuart takes a while but he finally adjusts to being part of the family and even getting along with the pet cat    george doesn t take too well to having a mouse for a brother at first   but once the two play together they instantly bond    stuart however is missing something   and he wants to know who his real parents are    the littles try and find his parents and one day they show up on the doorstep wanting stuart back    hesitating the littles know what s best for stuart and so does snowball the pet cat   he and his friends try to get stuart but in the end we find out the truth about stuart s past ending up to a sentimental and very heart warming ending    one thing i noticed about the film instantly was the fantastic special effects    just like in   star wars   episode 1  the phantom menace   stuart little and his family are all computer generated and they look fantastically real    from the detail of their fur   to the detail of the way the walk   the special effects team put a lot of time and effort on this $90 million dollar film and it shows    another movie that this has in common with is   babe   with it s talking animals and people understanding them    it has a family friendly atmosphere and is never really scary or suspenseful enough to even scare the youngest of kids    michael j   fox does the voice of stuart himself and just like in the   homeward bound   movies does a fantastic job and brings more out of stuart than anyone else could    he to me fits the character perfectly and ends up making stuart even more lovable    another gem of the film is nathan lane as snowball    when he was timon in 1994 s   the lion king   i would have sworn he was a comedian   and now in   stuart little   he brings the most out of snowball and makes him one of those characters we love to dislike    for the human actors geena davis who never gives a bad performance does not disappoint here as well    she fits nicely in her character and there is a good chemistry between her and hugh laurie who plays mr   little    both make us believe they are happily in love and married and jonathan lipnicki as their song is even more adorable than he was in 1996 s   jerry maguire      even though stuart little is completely cgi   the human characters and stuart have a nice chemistry together and even makes us believe they really do care for each other       stuart little   is ideal family entertainment for this holiday season and will not disappoint youngsters or adults for that matter    we get entertainment   laughs   cries and more fun at the movies this season than probably any other movie    its nice to see a pg rated movie out at christmas that everyone can see    even though it has a $90 million dollar budget i m sure it will make over that or just below it respectively    for all you parents out there trying to find a good family movie   i have yet to see bicentennial man as i write this but as far as i know   stuart little   and   toy story 2   are by far the best family films this year    a winner      \n"
     ]
    }
   ],
   "source": [
    "print(input_data['text'][0])"
   ]
  },
  {
   "cell_type": "code",
   "execution_count": 37,
   "metadata": {},
   "outputs": [
    {
     "data": {
      "text/plain": [
       "(2000, 13053)"
      ]
     },
     "execution_count": 37,
     "metadata": {},
     "output_type": "execute_result"
    }
   ],
   "source": [
    "dtm.shape"
   ]
  },
  {
   "cell_type": "code",
   "execution_count": 38,
   "metadata": {},
   "outputs": [],
   "source": [
    "# we can clearly see that columns now are reduced to only 13053 and that's a great achievemnt"
   ]
  },
  {
   "cell_type": "markdown",
   "metadata": {},
   "source": [
    "### Building the Training and Testing data"
   ]
  },
  {
   "cell_type": "code",
   "execution_count": 39,
   "metadata": {},
   "outputs": [],
   "source": [
    "df_train = dtm[:1900]\n",
    "df_test = dtm[1900:]"
   ]
  },
  {
   "cell_type": "code",
   "execution_count": 40,
   "metadata": {},
   "outputs": [
    {
     "data": {
      "text/plain": [
       "(1900, 13053)"
      ]
     },
     "execution_count": 40,
     "metadata": {},
     "output_type": "execute_result"
    }
   ],
   "source": [
    "df_train.shape"
   ]
  },
  {
   "cell_type": "code",
   "execution_count": 41,
   "metadata": {},
   "outputs": [
    {
     "data": {
      "text/plain": [
       "(100, 13053)"
      ]
     },
     "execution_count": 41,
     "metadata": {},
     "output_type": "execute_result"
    }
   ],
   "source": [
    "df_test.shape"
   ]
  },
  {
   "cell_type": "code",
   "execution_count": 42,
   "metadata": {},
   "outputs": [],
   "source": [
    "# we have 1600 rows in our training data and 400 rows in our test data"
   ]
  },
  {
   "cell_type": "code",
   "execution_count": 43,
   "metadata": {},
   "outputs": [
    {
     "data": {
      "text/plain": [
       "MultinomialNB(alpha=1.0, class_prior=None, fit_prior=True)"
      ]
     },
     "execution_count": 43,
     "metadata": {},
     "output_type": "execute_result"
    }
   ],
   "source": [
    "from sklearn.naive_bayes import MultinomialNB\n",
    "clf = MultinomialNB()\n",
    "X_train = df_train.drop(['class'], axis = 1)\n",
    "clf.fit(X_train, df_train['class'])"
   ]
  },
  {
   "cell_type": "code",
   "execution_count": 44,
   "metadata": {},
   "outputs": [
    {
     "data": {
      "text/plain": [
       "0.8"
      ]
     },
     "execution_count": 44,
     "metadata": {},
     "output_type": "execute_result"
    }
   ],
   "source": [
    "# finding accuracy\n",
    "X_test = df_test.drop(['class'], axis = 1)\n",
    "clf.score(X_test, df_test['class'])"
   ]
  },
  {
   "cell_type": "code",
   "execution_count": 45,
   "metadata": {},
   "outputs": [],
   "source": [
    "# predicting the sentiments\n",
    "pred_sentiment = clf.predict(df_test.drop('class', axis = 1))"
   ]
  },
  {
   "cell_type": "code",
   "execution_count": 46,
   "metadata": {},
   "outputs": [
    {
     "data": {
      "text/plain": [
       "pandas.core.frame.DataFrame"
      ]
     },
     "execution_count": 46,
     "metadata": {},
     "output_type": "execute_result"
    }
   ],
   "source": [
    "type(df_test)"
   ]
  },
  {
   "cell_type": "code",
   "execution_count": null,
   "metadata": {},
   "outputs": [],
   "source": []
  },
  {
   "cell_type": "code",
   "execution_count": 47,
   "metadata": {},
   "outputs": [
    {
     "name": "stdout",
     "output_type": "stream",
     "text": [
      "['Pos' 'Pos' 'Pos' 'Neg' 'Neg' 'Neg' 'Neg' 'Neg' 'Neg' 'Neg' 'Neg' 'Pos'\n",
      " 'Neg' 'Neg' 'Neg' 'Pos' 'Pos' 'Pos' 'Neg' 'Pos' 'Neg' 'Neg' 'Pos' 'Neg'\n",
      " 'Pos' 'Pos' 'Neg' 'Pos' 'Neg' 'Neg' 'Neg' 'Pos' 'Neg' 'Pos' 'Pos' 'Pos'\n",
      " 'Pos' 'Pos' 'Neg' 'Pos' 'Pos' 'Neg' 'Pos' 'Pos' 'Pos' 'Neg' 'Pos' 'Neg'\n",
      " 'Neg' 'Pos' 'Pos' 'Neg' 'Pos' 'Neg' 'Neg' 'Neg' 'Pos' 'Neg' 'Pos' 'Pos'\n",
      " 'Neg' 'Neg' 'Pos' 'Neg' 'Neg' 'Pos' 'Neg' 'Pos' 'Neg' 'Neg' 'Pos' 'Neg'\n",
      " 'Neg' 'Pos' 'Pos' 'Neg' 'Neg' 'Neg' 'Neg' 'Neg' 'Neg' 'Pos' 'Pos' 'Pos'\n",
      " 'Pos' 'Pos' 'Neg' 'Pos' 'Pos' 'Neg' 'Pos' 'Neg' 'Neg' 'Pos' 'Neg' 'Neg'\n",
      " 'Neg' 'Pos' 'Pos' 'Pos']\n"
     ]
    }
   ],
   "source": [
    "print(pred_sentiment)"
   ]
  },
  {
   "cell_type": "code",
   "execution_count": 48,
   "metadata": {
    "scrolled": true
   },
   "outputs": [
    {
     "name": "stdout",
     "output_type": "stream",
     "text": [
      "Pos-->Pos\n",
      "Pos-->Pos\n",
      "Pos-->Pos\n",
      "Pos-->Neg\n",
      "Pos-->Neg\n",
      "Neg-->Neg\n",
      "Neg-->Neg\n",
      "Neg-->Neg\n",
      "Neg-->Neg\n",
      "Neg-->Neg\n",
      "Neg-->Neg\n",
      "Pos-->Pos\n",
      "Neg-->Neg\n",
      "Neg-->Neg\n",
      "Neg-->Neg\n",
      "Neg-->Pos\n",
      "Pos-->Pos\n",
      "Neg-->Pos\n",
      "Pos-->Neg\n",
      "Pos-->Pos\n",
      "Neg-->Neg\n",
      "Neg-->Neg\n",
      "Neg-->Pos\n",
      "Pos-->Neg\n",
      "Pos-->Pos\n",
      "Pos-->Pos\n",
      "Neg-->Neg\n",
      "Pos-->Pos\n",
      "Pos-->Neg\n",
      "Neg-->Neg\n",
      "Neg-->Neg\n",
      "Pos-->Pos\n",
      "Pos-->Neg\n",
      "Pos-->Pos\n",
      "Pos-->Pos\n",
      "Pos-->Pos\n",
      "Pos-->Pos\n",
      "Pos-->Pos\n",
      "Pos-->Neg\n",
      "Neg-->Pos\n",
      "Pos-->Pos\n",
      "Neg-->Neg\n",
      "Pos-->Pos\n",
      "Neg-->Pos\n",
      "Pos-->Pos\n",
      "Neg-->Neg\n",
      "Pos-->Pos\n",
      "Neg-->Neg\n",
      "Neg-->Neg\n",
      "Pos-->Pos\n",
      "Neg-->Pos\n",
      "Neg-->Neg\n",
      "Pos-->Pos\n",
      "Neg-->Neg\n",
      "Pos-->Neg\n",
      "Neg-->Neg\n",
      "Pos-->Pos\n",
      "Neg-->Neg\n",
      "Pos-->Pos\n",
      "Pos-->Pos\n",
      "Neg-->Neg\n",
      "Neg-->Neg\n",
      "Pos-->Pos\n",
      "Neg-->Neg\n",
      "Neg-->Neg\n",
      "Pos-->Pos\n",
      "Neg-->Neg\n",
      "Pos-->Pos\n",
      "Neg-->Neg\n",
      "Pos-->Neg\n",
      "Neg-->Pos\n",
      "Neg-->Neg\n",
      "Pos-->Neg\n",
      "Pos-->Pos\n",
      "Pos-->Pos\n",
      "Neg-->Neg\n",
      "Neg-->Neg\n",
      "Neg-->Neg\n",
      "Neg-->Neg\n",
      "Pos-->Neg\n",
      "Neg-->Neg\n",
      "Pos-->Pos\n",
      "Pos-->Pos\n",
      "Pos-->Pos\n",
      "Pos-->Pos\n",
      "Pos-->Pos\n",
      "Neg-->Neg\n",
      "Pos-->Pos\n",
      "Pos-->Pos\n",
      "Neg-->Neg\n",
      "Pos-->Pos\n",
      "Neg-->Neg\n",
      "Neg-->Neg\n",
      "Pos-->Pos\n",
      "Pos-->Neg\n",
      "Neg-->Neg\n",
      "Neg-->Neg\n",
      "Pos-->Pos\n",
      "Neg-->Pos\n",
      "Pos-->Pos\n"
     ]
    }
   ],
   "source": [
    "for i, j in zip(df_test['class'], pred_sentiment):\n",
    "    print(i, j, sep = '-->')"
   ]
  },
  {
   "cell_type": "code",
   "execution_count": 76,
   "metadata": {},
   "outputs": [],
   "source": [
    "text = \"Superb movie. Very good story and wonderful presentation\"\n",
    "a = pd.Series(text)\n",
    "countvec1 = CountVectorizer(min_df=0.1, tokenizer = tokenise, stop_words = stopwords.words('english'))\n",
    "dtm_pred = pd.DataFrame(countvec1.fit_transform(a).toarray(), columns= countvec1.get_feature_names(), index = None)"
   ]
  },
  {
   "cell_type": "code",
   "execution_count": 77,
   "metadata": {},
   "outputs": [
    {
     "data": {
      "text/html": [
       "<div>\n",
       "<style scoped>\n",
       "    .dataframe tbody tr th:only-of-type {\n",
       "        vertical-align: middle;\n",
       "    }\n",
       "\n",
       "    .dataframe tbody tr th {\n",
       "        vertical-align: top;\n",
       "    }\n",
       "\n",
       "    .dataframe thead th {\n",
       "        text-align: right;\n",
       "    }\n",
       "</style>\n",
       "<table border=\"1\" class=\"dataframe\">\n",
       "  <thead>\n",
       "    <tr style=\"text-align: right;\">\n",
       "      <th></th>\n",
       "      <th>good</th>\n",
       "      <th>movie</th>\n",
       "      <th>present</th>\n",
       "      <th>story</th>\n",
       "      <th>superb</th>\n",
       "      <th>wonderful</th>\n",
       "    </tr>\n",
       "  </thead>\n",
       "  <tbody>\n",
       "    <tr>\n",
       "      <th>0</th>\n",
       "      <td>1</td>\n",
       "      <td>1</td>\n",
       "      <td>1</td>\n",
       "      <td>1</td>\n",
       "      <td>1</td>\n",
       "      <td>1</td>\n",
       "    </tr>\n",
       "  </tbody>\n",
       "</table>\n",
       "</div>"
      ],
      "text/plain": [
       "   good  movie  present  story  superb  wonderful\n",
       "0     1      1        1      1       1          1"
      ]
     },
     "execution_count": 77,
     "metadata": {},
     "output_type": "execute_result"
    }
   ],
   "source": [
    "dtm_pred"
   ]
  },
  {
   "cell_type": "code",
   "execution_count": 78,
   "metadata": {},
   "outputs": [
    {
     "ename": "ValueError",
     "evalue": "shapes (1,6) and (13052,2) not aligned: 6 (dim 1) != 13052 (dim 0)",
     "output_type": "error",
     "traceback": [
      "\u001b[1;31m---------------------------------------------------------------------------\u001b[0m",
      "\u001b[1;31mValueError\u001b[0m                                Traceback (most recent call last)",
      "\u001b[1;32m<ipython-input-78-b028e91b5456>\u001b[0m in \u001b[0;36m<module>\u001b[1;34m()\u001b[0m\n\u001b[1;32m----> 1\u001b[1;33m \u001b[0mpred_new_sentiment\u001b[0m \u001b[1;33m=\u001b[0m \u001b[0mclf\u001b[0m\u001b[1;33m.\u001b[0m\u001b[0mpredict\u001b[0m\u001b[1;33m(\u001b[0m\u001b[0mdtm_pred\u001b[0m\u001b[1;33m)\u001b[0m\u001b[1;33m\u001b[0m\u001b[0m\n\u001b[0m",
      "\u001b[1;32mC:\\Anaconda3\\lib\\site-packages\\sklearn\\naive_bayes.py\u001b[0m in \u001b[0;36mpredict\u001b[1;34m(self, X)\u001b[0m\n\u001b[0;32m     64\u001b[0m             \u001b[0mPredicted\u001b[0m \u001b[0mtarget\u001b[0m \u001b[0mvalues\u001b[0m \u001b[1;32mfor\u001b[0m \u001b[0mX\u001b[0m\u001b[1;33m\u001b[0m\u001b[0m\n\u001b[0;32m     65\u001b[0m         \"\"\"\n\u001b[1;32m---> 66\u001b[1;33m         \u001b[0mjll\u001b[0m \u001b[1;33m=\u001b[0m \u001b[0mself\u001b[0m\u001b[1;33m.\u001b[0m\u001b[0m_joint_log_likelihood\u001b[0m\u001b[1;33m(\u001b[0m\u001b[0mX\u001b[0m\u001b[1;33m)\u001b[0m\u001b[1;33m\u001b[0m\u001b[0m\n\u001b[0m\u001b[0;32m     67\u001b[0m         \u001b[1;32mreturn\u001b[0m \u001b[0mself\u001b[0m\u001b[1;33m.\u001b[0m\u001b[0mclasses_\u001b[0m\u001b[1;33m[\u001b[0m\u001b[0mnp\u001b[0m\u001b[1;33m.\u001b[0m\u001b[0margmax\u001b[0m\u001b[1;33m(\u001b[0m\u001b[0mjll\u001b[0m\u001b[1;33m,\u001b[0m \u001b[0maxis\u001b[0m\u001b[1;33m=\u001b[0m\u001b[1;36m1\u001b[0m\u001b[1;33m)\u001b[0m\u001b[1;33m]\u001b[0m\u001b[1;33m\u001b[0m\u001b[0m\n\u001b[0;32m     68\u001b[0m \u001b[1;33m\u001b[0m\u001b[0m\n",
      "\u001b[1;32mC:\\Anaconda3\\lib\\site-packages\\sklearn\\naive_bayes.py\u001b[0m in \u001b[0;36m_joint_log_likelihood\u001b[1;34m(self, X)\u001b[0m\n\u001b[0;32m    723\u001b[0m \u001b[1;33m\u001b[0m\u001b[0m\n\u001b[0;32m    724\u001b[0m         \u001b[0mX\u001b[0m \u001b[1;33m=\u001b[0m \u001b[0mcheck_array\u001b[0m\u001b[1;33m(\u001b[0m\u001b[0mX\u001b[0m\u001b[1;33m,\u001b[0m \u001b[0maccept_sparse\u001b[0m\u001b[1;33m=\u001b[0m\u001b[1;34m'csr'\u001b[0m\u001b[1;33m)\u001b[0m\u001b[1;33m\u001b[0m\u001b[0m\n\u001b[1;32m--> 725\u001b[1;33m         return (safe_sparse_dot(X, self.feature_log_prob_.T) +\n\u001b[0m\u001b[0;32m    726\u001b[0m                 self.class_log_prior_)\n\u001b[0;32m    727\u001b[0m \u001b[1;33m\u001b[0m\u001b[0m\n",
      "\u001b[1;32mC:\\Anaconda3\\lib\\site-packages\\sklearn\\utils\\extmath.py\u001b[0m in \u001b[0;36msafe_sparse_dot\u001b[1;34m(a, b, dense_output)\u001b[0m\n\u001b[0;32m    138\u001b[0m         \u001b[1;32mreturn\u001b[0m \u001b[0mret\u001b[0m\u001b[1;33m\u001b[0m\u001b[0m\n\u001b[0;32m    139\u001b[0m     \u001b[1;32melse\u001b[0m\u001b[1;33m:\u001b[0m\u001b[1;33m\u001b[0m\u001b[0m\n\u001b[1;32m--> 140\u001b[1;33m         \u001b[1;32mreturn\u001b[0m \u001b[0mnp\u001b[0m\u001b[1;33m.\u001b[0m\u001b[0mdot\u001b[0m\u001b[1;33m(\u001b[0m\u001b[0ma\u001b[0m\u001b[1;33m,\u001b[0m \u001b[0mb\u001b[0m\u001b[1;33m)\u001b[0m\u001b[1;33m\u001b[0m\u001b[0m\n\u001b[0m\u001b[0;32m    141\u001b[0m \u001b[1;33m\u001b[0m\u001b[0m\n\u001b[0;32m    142\u001b[0m \u001b[1;33m\u001b[0m\u001b[0m\n",
      "\u001b[1;31mValueError\u001b[0m: shapes (1,6) and (13052,2) not aligned: 6 (dim 1) != 13052 (dim 0)"
     ]
    }
   ],
   "source": [
    "pred_new_sentiment = clf.predict(dtm_pred)"
   ]
  },
  {
   "cell_type": "code",
   "execution_count": null,
   "metadata": {},
   "outputs": [],
   "source": []
  },
  {
   "cell_type": "code",
   "execution_count": null,
   "metadata": {},
   "outputs": [],
   "source": []
  },
  {
   "cell_type": "code",
   "execution_count": null,
   "metadata": {},
   "outputs": [],
   "source": []
  }
 ],
 "metadata": {
  "kernelspec": {
   "display_name": "Python 3",
   "language": "python",
   "name": "python3"
  },
  "language_info": {
   "codemirror_mode": {
    "name": "ipython",
    "version": 3
   },
   "file_extension": ".py",
   "mimetype": "text/x-python",
   "name": "python",
   "nbconvert_exporter": "python",
   "pygments_lexer": "ipython3",
   "version": "3.6.4"
  }
 },
 "nbformat": 4,
 "nbformat_minor": 2
}
